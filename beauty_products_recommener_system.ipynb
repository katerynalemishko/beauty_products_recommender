{
 "cells": [
  {
   "cell_type": "markdown",
   "id": "editorial-making",
   "metadata": {},
   "source": [
    "# Amazon beauty products recommender system"
   ]
  },
  {
   "cell_type": "markdown",
   "id": "bacterial-heather",
   "metadata": {},
   "source": [
    "Recommender system is a class of algorithms and techniques that aims to predict ratings and preferences of users on products. The main application of recommender systems is finding a relationship between users and products in order to maximize the user-product engagement, which is used in a wide range of areas, such as books, movies, songs, news suggestions and other products recommendation in e-commerce in general.\n",
    "\n",
    "In this notebook, I will build a recommender system for beauty products sold on Amazon.\n",
    "\n",
    "I will use a dataset related to over 2 Million customer reviews and ratings of Beauty related products sold on their website, containing\n",
    "the unique user Id (Customer Identification), the product number (Amazon identifier number), ratings (ranging from 1-5 based on customer satisfaction) and\n",
    "the timestamp of the rating (in UNIX time). \n",
    "\n",
    "To save computation time, I reduced the size of the data for a recommender system by randomly sampling approximately 20000 datapoints.\n",
    "\n",
    "More information on the complete dataset can be found here https://www.kaggle.com/datasets/skillsmuggler/amazon-ratings"
   ]
  },
  {
   "cell_type": "markdown",
   "id": "surgical-fundamentals",
   "metadata": {},
   "source": [
    "<img src=\"products.jpg\" alt=\"alt text\" width=\"1000\"/>"
   ]
  },
  {
   "cell_type": "code",
   "execution_count": 1,
   "id": "southeast-shelter",
   "metadata": {},
   "outputs": [],
   "source": [
    "# Import pandas\n",
    "import pandas as pd\n",
    "import numpy as np\n",
    "\n",
    "# Ignore warnings\n",
    "import warnings\n",
    "warnings.filterwarnings('ignore')\n",
    "\n",
    "# Visualization imports\n",
    "import matplotlib.pyplot as plt\n",
    "import seaborn as sns"
   ]
  },
  {
   "cell_type": "markdown",
   "id": "rural-popularity",
   "metadata": {},
   "source": [
    "## Exploration of the dataset"
   ]
  },
  {
   "cell_type": "markdown",
   "id": "sporting-orange",
   "metadata": {},
   "source": [
    "Let's load the dataset in a data frame and take take a look at it."
   ]
  },
  {
   "cell_type": "code",
   "execution_count": 2,
   "id": "authentic-apache",
   "metadata": {},
   "outputs": [],
   "source": [
    "# Load the data into a data frame\n",
    "data=pd.read_csv('data_amazon_beauty.csv') "
   ]
  },
  {
   "cell_type": "code",
   "execution_count": 3,
   "id": "considerable-lesson",
   "metadata": {},
   "outputs": [
    {
     "data": {
      "text/html": [
       "<div>\n",
       "<style scoped>\n",
       "    .dataframe tbody tr th:only-of-type {\n",
       "        vertical-align: middle;\n",
       "    }\n",
       "\n",
       "    .dataframe tbody tr th {\n",
       "        vertical-align: top;\n",
       "    }\n",
       "\n",
       "    .dataframe thead th {\n",
       "        text-align: right;\n",
       "    }\n",
       "</style>\n",
       "<table border=\"1\" class=\"dataframe\">\n",
       "  <thead>\n",
       "    <tr style=\"text-align: right;\">\n",
       "      <th></th>\n",
       "      <th>user_id</th>\n",
       "      <th>product_id</th>\n",
       "      <th>rating</th>\n",
       "      <th>timestamp</th>\n",
       "    </tr>\n",
       "  </thead>\n",
       "  <tbody>\n",
       "    <tr>\n",
       "      <th>0</th>\n",
       "      <td>1417</td>\n",
       "      <td>8472</td>\n",
       "      <td>5</td>\n",
       "      <td>1300924800</td>\n",
       "    </tr>\n",
       "    <tr>\n",
       "      <th>1</th>\n",
       "      <td>16542</td>\n",
       "      <td>11890</td>\n",
       "      <td>3</td>\n",
       "      <td>1369180800</td>\n",
       "    </tr>\n",
       "    <tr>\n",
       "      <th>2</th>\n",
       "      <td>13313</td>\n",
       "      <td>512</td>\n",
       "      <td>5</td>\n",
       "      <td>1391817600</td>\n",
       "    </tr>\n",
       "    <tr>\n",
       "      <th>3</th>\n",
       "      <td>11941</td>\n",
       "      <td>512</td>\n",
       "      <td>5</td>\n",
       "      <td>1367280000</td>\n",
       "    </tr>\n",
       "    <tr>\n",
       "      <th>4</th>\n",
       "      <td>8874</td>\n",
       "      <td>512</td>\n",
       "      <td>5</td>\n",
       "      <td>1394582400</td>\n",
       "    </tr>\n",
       "  </tbody>\n",
       "</table>\n",
       "</div>"
      ],
      "text/plain": [
       "   user_id  product_id  rating   timestamp\n",
       "0     1417        8472       5  1300924800\n",
       "1    16542       11890       3  1369180800\n",
       "2    13313         512       5  1391817600\n",
       "3    11941         512       5  1367280000\n",
       "4     8874         512       5  1394582400"
      ]
     },
     "execution_count": 3,
     "metadata": {},
     "output_type": "execute_result"
    }
   ],
   "source": [
    "# Display the first rows of the dataframe\n",
    "data.head()"
   ]
  },
  {
   "cell_type": "markdown",
   "id": "induced-private",
   "metadata": {},
   "source": [
    "We can see that the dataframe contains four columns: user_id, product_id, rating and timestamp. We can drop the timestamp column\n",
    "since we will not use it for building the recommender system."
   ]
  },
  {
   "cell_type": "code",
   "execution_count": 4,
   "id": "western-header",
   "metadata": {},
   "outputs": [],
   "source": [
    "# Delete the timestamp column\n",
    "data.drop(['timestamp'],axis=1,inplace=True)"
   ]
  },
  {
   "cell_type": "markdown",
   "id": "listed-paragraph",
   "metadata": {},
   "source": [
    "Let's now check the data type of the variables and the number of NULL values in the data frame."
   ]
  },
  {
   "cell_type": "code",
   "execution_count": 5,
   "id": "moderate-papua",
   "metadata": {},
   "outputs": [
    {
     "data": {
      "text/plain": [
       "(20231, 3)"
      ]
     },
     "execution_count": 5,
     "metadata": {},
     "output_type": "execute_result"
    }
   ],
   "source": [
    "# Data frame dimentions\n",
    "data.shape"
   ]
  },
  {
   "cell_type": "code",
   "execution_count": 6,
   "id": "turkish-depression",
   "metadata": {},
   "outputs": [
    {
     "name": "stdout",
     "output_type": "stream",
     "text": [
      "<class 'pandas.core.frame.DataFrame'>\n",
      "RangeIndex: 20231 entries, 0 to 20230\n",
      "Data columns (total 3 columns):\n",
      " #   Column      Non-Null Count  Dtype\n",
      "---  ------      --------------  -----\n",
      " 0   user_id     20231 non-null  int64\n",
      " 1   product_id  20231 non-null  int64\n",
      " 2   rating      20231 non-null  int64\n",
      "dtypes: int64(3)\n",
      "memory usage: 474.3 KB\n"
     ]
    }
   ],
   "source": [
    "# Data information\n",
    "data.info()"
   ]
  },
  {
   "cell_type": "markdown",
   "id": "corrected-browser",
   "metadata": {},
   "source": [
    "The data frame contains 20231 rows and three columns, and all three columns contain 20231 non-null integer \n",
    "values. \n",
    "\n",
    "Let's further explore the data."
   ]
  },
  {
   "cell_type": "code",
   "execution_count": 7,
   "id": "friendly-culture",
   "metadata": {},
   "outputs": [
    {
     "data": {
      "text/plain": [
       "0        7\n",
       "1        6\n",
       "4        5\n",
       "3        5\n",
       "2        5\n",
       "        ..\n",
       "12173    1\n",
       "921      1\n",
       "12174    1\n",
       "12175    1\n",
       "19830    1\n",
       "Name: user_id, Length: 19831, dtype: int64"
      ]
     },
     "execution_count": 7,
     "metadata": {},
     "output_type": "execute_result"
    }
   ],
   "source": [
    "# Count different users in a data frame\n",
    "data.user_id.value_counts()"
   ]
  },
  {
   "cell_type": "code",
   "execution_count": 8,
   "id": "sitting-variety",
   "metadata": {},
   "outputs": [
    {
     "data": {
      "text/plain": [
       "0        78\n",
       "1        28\n",
       "2        24\n",
       "3        24\n",
       "4        23\n",
       "         ..\n",
       "14304     1\n",
       "14305     1\n",
       "14296     1\n",
       "14306     1\n",
       "14654     1\n",
       "Name: product_id, Length: 14655, dtype: int64"
      ]
     },
     "execution_count": 8,
     "metadata": {},
     "output_type": "execute_result"
    }
   ],
   "source": [
    "# Count different products in a data frame\n",
    "data.product_id.value_counts()"
   ]
  },
  {
   "cell_type": "code",
   "execution_count": 9,
   "id": "deadly-curtis",
   "metadata": {},
   "outputs": [
    {
     "data": {
      "text/html": [
       "<div>\n",
       "<style scoped>\n",
       "    .dataframe tbody tr th:only-of-type {\n",
       "        vertical-align: middle;\n",
       "    }\n",
       "\n",
       "    .dataframe tbody tr th {\n",
       "        vertical-align: top;\n",
       "    }\n",
       "\n",
       "    .dataframe thead th {\n",
       "        text-align: right;\n",
       "    }\n",
       "</style>\n",
       "<table border=\"1\" class=\"dataframe\">\n",
       "  <thead>\n",
       "    <tr style=\"text-align: right;\">\n",
       "      <th></th>\n",
       "      <th>user_id</th>\n",
       "      <th>product_id</th>\n",
       "      <th>rating</th>\n",
       "    </tr>\n",
       "  </thead>\n",
       "  <tbody>\n",
       "    <tr>\n",
       "      <th>count</th>\n",
       "      <td>20231.000000</td>\n",
       "      <td>20231.000000</td>\n",
       "      <td>20231.000000</td>\n",
       "    </tr>\n",
       "    <tr>\n",
       "      <th>mean</th>\n",
       "      <td>9721.826998</td>\n",
       "      <td>5538.250012</td>\n",
       "      <td>4.147002</td>\n",
       "    </tr>\n",
       "    <tr>\n",
       "      <th>std</th>\n",
       "      <td>5828.922755</td>\n",
       "      <td>4642.881568</td>\n",
       "      <td>1.310945</td>\n",
       "    </tr>\n",
       "    <tr>\n",
       "      <th>min</th>\n",
       "      <td>0.000000</td>\n",
       "      <td>0.000000</td>\n",
       "      <td>1.000000</td>\n",
       "    </tr>\n",
       "    <tr>\n",
       "      <th>25%</th>\n",
       "      <td>4657.500000</td>\n",
       "      <td>1126.000000</td>\n",
       "      <td>4.000000</td>\n",
       "    </tr>\n",
       "    <tr>\n",
       "      <th>50%</th>\n",
       "      <td>9715.000000</td>\n",
       "      <td>4539.000000</td>\n",
       "      <td>5.000000</td>\n",
       "    </tr>\n",
       "    <tr>\n",
       "      <th>75%</th>\n",
       "      <td>14772.500000</td>\n",
       "      <td>9596.500000</td>\n",
       "      <td>5.000000</td>\n",
       "    </tr>\n",
       "    <tr>\n",
       "      <th>max</th>\n",
       "      <td>19830.000000</td>\n",
       "      <td>14654.000000</td>\n",
       "      <td>5.000000</td>\n",
       "    </tr>\n",
       "  </tbody>\n",
       "</table>\n",
       "</div>"
      ],
      "text/plain": [
       "            user_id    product_id        rating\n",
       "count  20231.000000  20231.000000  20231.000000\n",
       "mean    9721.826998   5538.250012      4.147002\n",
       "std     5828.922755   4642.881568      1.310945\n",
       "min        0.000000      0.000000      1.000000\n",
       "25%     4657.500000   1126.000000      4.000000\n",
       "50%     9715.000000   4539.000000      5.000000\n",
       "75%    14772.500000   9596.500000      5.000000\n",
       "max    19830.000000  14654.000000      5.000000"
      ]
     },
     "execution_count": 9,
     "metadata": {},
     "output_type": "execute_result"
    }
   ],
   "source": [
    "# Descriptive statistics\n",
    "data.describe()"
   ]
  },
  {
   "cell_type": "markdown",
   "id": "identical-sewing",
   "metadata": {},
   "source": [
    "We can see that the data frame contains ratings for 14655 different products given by 19831 different users. \n",
    "The average rating of the beauty products given by this set of users was around 4.15. We can conclude that\n",
    "there are no outliers in the raiting column since the maximum rating value is 5 and the minimum raiting value is 1.\n",
    "These values are in agreement with the rating scale."
   ]
  },
  {
   "cell_type": "markdown",
   "id": "angry-canada",
   "metadata": {},
   "source": [
    "Let's check the global rating distribution: what rating was the most popular for the beauty products?"
   ]
  },
  {
   "cell_type": "code",
   "execution_count": 10,
   "id": "suffering-wealth",
   "metadata": {},
   "outputs": [
    {
     "data": {
      "image/png": "[encoded data removed]",
      "text/plain": [
       "<Figure size 432x288 with 1 Axes>"
      ]
     },
     "metadata": {
      "needs_background": "light"
     },
     "output_type": "display_data"
    }
   ],
   "source": [
    "# Plot the barchart to compare the number of times each products were rated with ratings 1,2,3, 4, and 5\n",
    "sns.set(rc={\"figure.figsize\":(9, 9)},font_scale=1.5)\n",
    "fig, ax=plt.subplots()\n",
    "plt.title('Rating distribution')\n",
    "sns.countplot(data.rating)\n",
    "ax.set_ylabel('No of Users')\n",
    "ax.set_xlabel('Rating')\n",
    "plt.show()"
   ]
  },
  {
   "cell_type": "markdown",
   "id": "considerable-positive",
   "metadata": {},
   "source": [
    "We can see that that most users rated products with a rating 5, and the least amount of users gave products a rating 2."
   ]
  },
  {
   "cell_type": "markdown",
   "id": "received-production",
   "metadata": {},
   "source": [
    "## Feature construction for Machine Learning Models"
   ]
  },
  {
   "cell_type": "markdown",
   "id": "difficult-sending",
   "metadata": {},
   "source": [
    "As we have explored the data set, we can now proceed to construct features that will be used by Machine Lerning models to predict\n",
    "ratings. \n",
    "\n",
    "We will create the following 13 features:\n",
    "    \n",
    "-**3** global averages : global average of all product ratings, average rating per user, and average rating per product; \\\n",
    "\\\n",
    "-**5** top similar users who rated each product; \\\n",
    "\\\n",
    "-**5** top similar products rated by each user.    "
   ]
  },
  {
   "cell_type": "markdown",
   "id": "random-swaziland",
   "metadata": {},
   "source": [
    "### Split data into train and test datasets"
   ]
  },
  {
   "cell_type": "markdown",
   "id": "elder-cabinet",
   "metadata": {},
   "source": [
    "First, let's split the data into train and test sets."
   ]
  },
  {
   "cell_type": "code",
   "execution_count": 11,
   "id": "naughty-vampire",
   "metadata": {},
   "outputs": [],
   "source": [
    "from sklearn.model_selection import train_test_split\n",
    "\n",
    "# split into train test sets\n",
    "train_data, test_data = train_test_split(data,random_state=5)"
   ]
  },
  {
   "cell_type": "code",
   "execution_count": 12,
   "id": "comparative-leave",
   "metadata": {},
   "outputs": [
    {
     "name": "stdout",
     "output_type": "stream",
     "text": [
      "(15173, 3)\n",
      "(5058, 3)\n"
     ]
    }
   ],
   "source": [
    "# Check the size of the train and test data sets \n",
    "print(train_data.shape)\n",
    "print(test_data.shape)"
   ]
  },
  {
   "cell_type": "markdown",
   "id": "prompt-cabin",
   "metadata": {},
   "source": [
    "75% of the data will be used to train our models, and 25% of the data will be test data."
   ]
  },
  {
   "cell_type": "markdown",
   "id": "incoming-butler",
   "metadata": {},
   "source": [
    "### Feature construction for the train data"
   ]
  },
  {
   "cell_type": "markdown",
   "id": "guided-soviet",
   "metadata": {},
   "source": [
    "**Creating sparse matrices from the train and test data frames**"
   ]
  },
  {
   "cell_type": "code",
   "execution_count": 13,
   "id": "solid-forest",
   "metadata": {},
   "outputs": [],
   "source": [
    "from scipy.sparse import csr_matrix as csrm\n",
    "\n",
    "# Creating a sparse matrix from the train data\n",
    "train_sparse_matrix = csrm((train_data.rating.values, (train_data.user_id.values, train_data.product_id.values)))\n",
    "\n",
    "# Creating a sparse matrix from the test data\n",
    "test_sparse_matrix = csrm((test_data.rating.values, (test_data.user_id.values, test_data.product_id.values)))"
   ]
  },
  {
   "cell_type": "markdown",
   "id": "understanding-premises",
   "metadata": {},
   "source": [
    "**Global averages**"
   ]
  },
  {
   "cell_type": "markdown",
   "id": "powerful-library",
   "metadata": {},
   "source": [
    "Now, we will employ the three global average features:\n",
    "    \n",
    "-the average ratings of all products given by all users; \\\n",
    "-the average ratings of a particular product given by all users; \\\n",
    "-the average ratings of all products given by a particular user."
   ]
  },
  {
   "cell_type": "code",
   "execution_count": 14,
   "id": "solar-authorization",
   "metadata": {},
   "outputs": [
    {
     "data": {
      "text/plain": [
       "{'global': 4.14815791208067}"
      ]
     },
     "execution_count": 14,
     "metadata": {},
     "output_type": "execute_result"
    }
   ],
   "source": [
    "# Initialize global average dictionary\n",
    "train_averages = dict()\n",
    "\n",
    "# get the global average of ratings in our train set.\n",
    "train_global_average = train_sparse_matrix.sum()/train_sparse_matrix.count_nonzero()\n",
    "train_averages['global'] = train_global_average\n",
    "train_averages"
   ]
  },
  {
   "cell_type": "markdown",
   "id": "lasting-footage",
   "metadata": {},
   "source": [
    "Next, let’s create a function which takes the sparse matrix as input and gives the average ratings of a product given by all users, and the average rating of all products given by a single user."
   ]
  },
  {
   "cell_type": "code",
   "execution_count": 15,
   "id": "arctic-cover",
   "metadata": {},
   "outputs": [],
   "source": [
    "# Function to get the user averages in dictionary (key: user_id/product_id, value: avg rating)\n",
    "\n",
    "def get_average_ratings(sparse_matrix, of_users):\n",
    "    \n",
    "    # average ratings of user/axes\n",
    "    ax = 1 if of_users else 0 # 1 - User axes,0 - product axes\n",
    "    \n",
    "    # \".A1\" is for converting Column_Matrix to 1-D numpy array\n",
    "    sum_of_ratings = sparse_matrix.sum(axis=ax).A1\n",
    "    \n",
    "    # Boolean matrix of ratings ( whether a user rated that product or not)\n",
    "    is_rated = sparse_matrix!=0\n",
    "    \n",
    "    # no of ratings that each user OR product.\n",
    "    no_of_ratings = is_rated.sum(axis=ax).A1\n",
    "    \n",
    "    # max_user and max_product ids in sparse matrix\n",
    "    u,m = sparse_matrix.shape\n",
    "    \n",
    "    # create a dictionary of users and their average ratings..\n",
    "    average_ratings = { i : sum_of_ratings[i]/no_of_ratings[i] for i in range(u if of_users else m) if no_of_ratings[i] !=0}\n",
    "\n",
    "    #return that dictionary of average ratings\n",
    "    return average_ratings"
   ]
  },
  {
   "cell_type": "code",
   "execution_count": 16,
   "id": "prompt-stadium",
   "metadata": {},
   "outputs": [
    {
     "name": "stdout",
     "output_type": "stream",
     "text": [
      "\n",
      "Average rating of user 3 : 4.4\n"
     ]
    }
   ],
   "source": [
    "# The average ratings of all products given by each user\n",
    "train_averages['user'] = get_average_ratings(train_sparse_matrix, of_users=True)\n",
    "\n",
    "# Print the average rating of user 3\n",
    "print('\\nAverage rating of user 3 :',train_averages['user'][3])"
   ]
  },
  {
   "cell_type": "markdown",
   "id": "conditional-disposal",
   "metadata": {},
   "source": [
    "We have found the average ratings given by each particular user. For example, the average rating\n",
    "given by user 3 is 4.4"
   ]
  },
  {
   "cell_type": "code",
   "execution_count": 17,
   "id": "wrong-eugene",
   "metadata": {},
   "outputs": [
    {
     "name": "stdout",
     "output_type": "stream",
     "text": [
      "\n",
      " Average rating of product number 15 : 4.153846153846154\n"
     ]
    }
   ],
   "source": [
    "# The average ratings of products given by all users\n",
    "train_averages['product'] = get_average_ratings(train_sparse_matrix, of_users=False)\n",
    "\n",
    "# Print the average rating of product 15\n",
    "print('\\n Average rating of product number 15 :',train_averages['product'][15])"
   ]
  },
  {
   "cell_type": "markdown",
   "id": "pursuant-disorder",
   "metadata": {},
   "source": [
    "We have found the average ratings of each products given by all users. For example, the average rating\n",
    "of product 15 is around 4.15"
   ]
  },
  {
   "cell_type": "code",
   "execution_count": 18,
   "id": "present-midnight",
   "metadata": {},
   "outputs": [],
   "source": [
    "from scipy.sparse import find as find\n",
    "\n",
    "# get users, products and ratings from our samples train sparse matrix\n",
    "train_users, train_products, train_ratings = find(train_sparse_matrix)"
   ]
  },
  {
   "cell_type": "markdown",
   "id": "regular-amendment",
   "metadata": {},
   "source": [
    "**Features which represent the top 5 similar users and 5 similar products**"
   ]
  },
  {
   "cell_type": "markdown",
   "id": "potential-trick",
   "metadata": {},
   "source": [
    "Now we will obtain the top 5 similar users who rated a particular product and the top 5 similar products \n",
    "rated by a particular user. \\\n",
    "For our calculations, we will use cosine similarity."
   ]
  },
  {
   "cell_type": "code",
   "execution_count": 19,
   "id": "specific-merit",
   "metadata": {},
   "outputs": [],
   "source": [
    "# Necessary imports\n",
    "from sklearn.metrics.pairwise import cosine_similarity\n",
    "\n",
    "# Create an empty data frame with all the created features\n",
    "final_data = pd.DataFrame()\n",
    "\n",
    "count = 0\n",
    "\n",
    "for (user, product, rating)  in zip(train_users, train_products, train_ratings):\n",
    "            \n",
    "            ####    Ratings of \"product\" by similar users of \"user\"  ####\n",
    "            \n",
    "            # Compute the similar users of the \"user\" with cosine similarity       \n",
    "            user_sim = cosine_similarity(train_sparse_matrix[user], train_sparse_matrix).ravel()\n",
    "            \n",
    "            # We are ignoring 'The User' from its similar users.\n",
    "            top_sim_users = user_sim.argsort()[::-1][1:] \n",
    "            \n",
    "            # Obtain the ratings of most similar users for this product\n",
    "            top_ratings = train_sparse_matrix[top_sim_users, product].toarray().ravel()\n",
    "            \n",
    "            # Make it's length \"5\" by adding product averages to .\n",
    "            top_sim_users_ratings = list(top_ratings[top_ratings != 0][:5])\n",
    "            top_sim_users_ratings.extend([train_averages['product'][product]]*(5 - len(top_sim_users_ratings)))\n",
    "       \n",
    "\n",
    "\n",
    "            ####   Ratings by \"user\"  to similar products of \"product\"   ########\n",
    "        \n",
    "            # Compute the similar products of the \"product\"        \n",
    "            product_sim = cosine_similarity(train_sparse_matrix[:,product].T, train_sparse_matrix.T).ravel()\n",
    "            \n",
    "            # We are ignoring 'The User' from its similar users.\n",
    "            top_sim_products = product_sim.argsort()[::-1][1:]\n",
    "            \n",
    "            # Get the ratings of most similar product rated by this user..\n",
    "            top_ratings = train_sparse_matrix[user, top_sim_products].toarray().ravel()\n",
    "            \n",
    "            # Make it's length \"5\" by adding user averages to.\n",
    "            top_sim_products_ratings = list(top_ratings[top_ratings != 0][:5])\n",
    "            top_sim_products_ratings.extend([train_averages['user'][user]]*(5-len(top_sim_products_ratings))) \n",
    "     \n",
    "\n",
    "            #####      Prepare the row to be stored in a file         ########\n",
    "            \n",
    "            # Create an ampty list fo\n",
    "            row = list()\n",
    "            row.append(user)\n",
    "            row.append(product)\n",
    "            \n",
    "            # Now add the other features to this data\n",
    "            row.append(train_averages['global']) # first feature\n",
    "            \n",
    "            # next 5 features are similar_users \"product\" ratings\n",
    "            row.extend(top_sim_users_ratings)\n",
    "            \n",
    "            # next 5 features are \"user\" ratings for similar_products\n",
    "            row.extend(top_sim_products_ratings)\n",
    "            \n",
    "            #Add avgerage user rating\n",
    "            row.append(train_averages['user'][user])\n",
    "            \n",
    "            # Add average product rating\n",
    "            row.append(train_averages['product'][product])\n",
    "\n",
    "            # Add the actual rating of this user-product pair\n",
    "            row.append(rating)\n",
    "            \n",
    "            count = count + 1\n",
    "            final_data = final_data.append([row])\n",
    "            #print(count)\n",
    "            \n",
    "            "
   ]
  },
  {
   "cell_type": "code",
   "execution_count": 20,
   "id": "recognized-punch",
   "metadata": {},
   "outputs": [],
   "source": [
    "final_data.columns=['user', 'product', 'GAvg', 'sur1', 'sur2', 'sur3', 'sur4', 'sur5',\n",
    "            'spr1', 'spr2', 'spr3', 'spr4', 'spr5', 'UAvg', 'PAvg', 'rating']"
   ]
  },
  {
   "cell_type": "code",
   "execution_count": 21,
   "id": "saving-librarian",
   "metadata": {},
   "outputs": [
    {
     "data": {
      "text/html": [
       "<div>\n",
       "<style scoped>\n",
       "    .dataframe tbody tr th:only-of-type {\n",
       "        vertical-align: middle;\n",
       "    }\n",
       "\n",
       "    .dataframe tbody tr th {\n",
       "        vertical-align: top;\n",
       "    }\n",
       "\n",
       "    .dataframe thead th {\n",
       "        text-align: right;\n",
       "    }\n",
       "</style>\n",
       "<table border=\"1\" class=\"dataframe\">\n",
       "  <thead>\n",
       "    <tr style=\"text-align: right;\">\n",
       "      <th></th>\n",
       "      <th>user</th>\n",
       "      <th>product</th>\n",
       "      <th>GAvg</th>\n",
       "      <th>sur1</th>\n",
       "      <th>sur2</th>\n",
       "      <th>sur3</th>\n",
       "      <th>sur4</th>\n",
       "      <th>sur5</th>\n",
       "      <th>spr1</th>\n",
       "      <th>spr2</th>\n",
       "      <th>spr3</th>\n",
       "      <th>spr4</th>\n",
       "      <th>spr5</th>\n",
       "      <th>UAvg</th>\n",
       "      <th>PAvg</th>\n",
       "      <th>rating</th>\n",
       "    </tr>\n",
       "  </thead>\n",
       "  <tbody>\n",
       "    <tr>\n",
       "      <th>0</th>\n",
       "      <td>634</td>\n",
       "      <td>0</td>\n",
       "      <td>4.148158</td>\n",
       "      <td>3.0</td>\n",
       "      <td>5.0</td>\n",
       "      <td>4.0</td>\n",
       "      <td>4.0</td>\n",
       "      <td>5.0</td>\n",
       "      <td>4.0</td>\n",
       "      <td>4.0</td>\n",
       "      <td>4.0</td>\n",
       "      <td>4.0</td>\n",
       "      <td>4.0</td>\n",
       "      <td>4.0</td>\n",
       "      <td>4.46875</td>\n",
       "      <td>4</td>\n",
       "    </tr>\n",
       "    <tr>\n",
       "      <th>0</th>\n",
       "      <td>805</td>\n",
       "      <td>0</td>\n",
       "      <td>4.148158</td>\n",
       "      <td>3.0</td>\n",
       "      <td>5.0</td>\n",
       "      <td>4.0</td>\n",
       "      <td>4.0</td>\n",
       "      <td>5.0</td>\n",
       "      <td>5.0</td>\n",
       "      <td>5.0</td>\n",
       "      <td>5.0</td>\n",
       "      <td>5.0</td>\n",
       "      <td>5.0</td>\n",
       "      <td>5.0</td>\n",
       "      <td>4.46875</td>\n",
       "      <td>5</td>\n",
       "    </tr>\n",
       "    <tr>\n",
       "      <th>0</th>\n",
       "      <td>994</td>\n",
       "      <td>0</td>\n",
       "      <td>4.148158</td>\n",
       "      <td>3.0</td>\n",
       "      <td>5.0</td>\n",
       "      <td>4.0</td>\n",
       "      <td>4.0</td>\n",
       "      <td>5.0</td>\n",
       "      <td>5.0</td>\n",
       "      <td>5.0</td>\n",
       "      <td>5.0</td>\n",
       "      <td>5.0</td>\n",
       "      <td>5.0</td>\n",
       "      <td>5.0</td>\n",
       "      <td>4.46875</td>\n",
       "      <td>5</td>\n",
       "    </tr>\n",
       "    <tr>\n",
       "      <th>0</th>\n",
       "      <td>1242</td>\n",
       "      <td>0</td>\n",
       "      <td>4.148158</td>\n",
       "      <td>3.0</td>\n",
       "      <td>5.0</td>\n",
       "      <td>4.0</td>\n",
       "      <td>4.0</td>\n",
       "      <td>5.0</td>\n",
       "      <td>4.0</td>\n",
       "      <td>4.0</td>\n",
       "      <td>4.0</td>\n",
       "      <td>4.0</td>\n",
       "      <td>4.0</td>\n",
       "      <td>4.0</td>\n",
       "      <td>4.46875</td>\n",
       "      <td>4</td>\n",
       "    </tr>\n",
       "    <tr>\n",
       "      <th>0</th>\n",
       "      <td>1650</td>\n",
       "      <td>0</td>\n",
       "      <td>4.148158</td>\n",
       "      <td>3.0</td>\n",
       "      <td>5.0</td>\n",
       "      <td>4.0</td>\n",
       "      <td>4.0</td>\n",
       "      <td>5.0</td>\n",
       "      <td>5.0</td>\n",
       "      <td>5.0</td>\n",
       "      <td>5.0</td>\n",
       "      <td>5.0</td>\n",
       "      <td>5.0</td>\n",
       "      <td>5.0</td>\n",
       "      <td>4.46875</td>\n",
       "      <td>5</td>\n",
       "    </tr>\n",
       "  </tbody>\n",
       "</table>\n",
       "</div>"
      ],
      "text/plain": [
       "   user  product      GAvg  sur1  sur2  sur3  sur4  sur5  spr1  spr2  spr3  \\\n",
       "0   634        0  4.148158   3.0   5.0   4.0   4.0   5.0   4.0   4.0   4.0   \n",
       "0   805        0  4.148158   3.0   5.0   4.0   4.0   5.0   5.0   5.0   5.0   \n",
       "0   994        0  4.148158   3.0   5.0   4.0   4.0   5.0   5.0   5.0   5.0   \n",
       "0  1242        0  4.148158   3.0   5.0   4.0   4.0   5.0   4.0   4.0   4.0   \n",
       "0  1650        0  4.148158   3.0   5.0   4.0   4.0   5.0   5.0   5.0   5.0   \n",
       "\n",
       "   spr4  spr5  UAvg     PAvg  rating  \n",
       "0   4.0   4.0   4.0  4.46875       4  \n",
       "0   5.0   5.0   5.0  4.46875       5  \n",
       "0   5.0   5.0   5.0  4.46875       5  \n",
       "0   4.0   4.0   4.0  4.46875       4  \n",
       "0   5.0   5.0   5.0  4.46875       5  "
      ]
     },
     "execution_count": 21,
     "metadata": {},
     "output_type": "execute_result"
    }
   ],
   "source": [
    "# Check the first few rows of the ontained train dataset\n",
    "final_data.head()"
   ]
  },
  {
   "cell_type": "code",
   "execution_count": 22,
   "id": "alleged-affect",
   "metadata": {},
   "outputs": [
    {
     "data": {
      "text/plain": [
       "(15173, 16)"
      ]
     },
     "execution_count": 22,
     "metadata": {},
     "output_type": "execute_result"
    }
   ],
   "source": [
    "final_data.shape"
   ]
  },
  {
   "cell_type": "markdown",
   "id": "environmental-fashion",
   "metadata": {},
   "source": [
    "So, the obtained train data frame contains 15173 rows and 16 columns. \n",
    "\n",
    "The coulumns of the obtained data frame are the following:\n",
    "\n",
    "**GAvg** : The average of all the ratings. \\\n",
    "\\\n",
    "Similar users ratings of this product: \\\n",
    "**sur1**, **sur2**, **sur3**, **sur4**, **sur5** (top 5 similar users who rated that product) \\\n",
    "\\\n",
    "Similar products rated by this user: \\\n",
    "**spr1**, **spr2**, **spr3**,**spr4**, **spr5** (top 5 similar products rated by this user) \\\n",
    "\\\n",
    "**UAvg**  : user’s average rating. \\\n",
    "\\\n",
    "**PAvg** : average rating of this product. \\\n",
    "\\\n",
    "**rating** : rating of this product by this user."
   ]
  },
  {
   "cell_type": "markdown",
   "id": "powered-collector",
   "metadata": {},
   "source": [
    "### Repeat the feature construction for the test data"
   ]
  },
  {
   "cell_type": "markdown",
   "id": "hispanic-raise",
   "metadata": {},
   "source": [
    "**Global averages in the test data**"
   ]
  },
  {
   "cell_type": "markdown",
   "id": "floral-there",
   "metadata": {},
   "source": [
    "As in the case of the train data, we will obtain the following global averages for the test data too:\n",
    "    \n",
    "-the average ratings of all products given by all users; \\\n",
    "-the average ratings of a particular product given by all users; \\\n",
    "-the average ratings of all products given by a particular user."
   ]
  },
  {
   "cell_type": "code",
   "execution_count": 23,
   "id": "controversial-commission",
   "metadata": {},
   "outputs": [
    {
     "data": {
      "text/plain": [
       "{'global': 4.143534994068802}"
      ]
     },
     "execution_count": 23,
     "metadata": {},
     "output_type": "execute_result"
    }
   ],
   "source": [
    "# Global avg of all products by all users\n",
    "\n",
    "# Set a dictionary for grolabr averages in test date\n",
    "test_averages = dict()\n",
    "\n",
    "# Get the global average of ratings in our test set.\n",
    "test_global_average = test_sparse_matrix.sum()/test_sparse_matrix.count_nonzero()\n",
    "test_averages['global'] = test_global_average\n",
    "\n",
    "# Print the global average rating of all products \n",
    "test_averages"
   ]
  },
  {
   "cell_type": "markdown",
   "id": "composite-magnitude",
   "metadata": {},
   "source": [
    "The average rating of all the products in the test data is 4.14"
   ]
  },
  {
   "cell_type": "code",
   "execution_count": 24,
   "id": "awful-reality",
   "metadata": {},
   "outputs": [
    {
     "name": "stdout",
     "output_type": "stream",
     "text": [
      "\n",
      "Average rating of user 1 : 4.666666666666667\n",
      "\n",
      "Average rating of product 3: 3.857142857142857\n"
     ]
    }
   ],
   "source": [
    "# Average ratings given by a user\n",
    "test_averages['user'] = get_average_ratings(test_sparse_matrix, of_users=True)\n",
    "\n",
    "# Print the average rating given by the user 1\n",
    "print('\\nAverage rating of user 1 :',test_averages['user'][1])\n",
    "\n",
    "# Average ratings given for a product\n",
    "test_averages['product'] =  get_average_ratings(test_sparse_matrix, of_users=False)\n",
    "\n",
    "# Print the average rationg of the product 3\n",
    "print('\\nAverage rating of product 3:',test_averages['product'][3])"
   ]
  },
  {
   "cell_type": "markdown",
   "id": "linear-sword",
   "metadata": {},
   "source": [
    "You can see that, for instance, the average rating given by user 1 from the test data is arond 4.67 and\n",
    "the average rating of product 3 is 3.85."
   ]
  },
  {
   "cell_type": "code",
   "execution_count": 25,
   "id": "comfortable-token",
   "metadata": {},
   "outputs": [],
   "source": [
    "# get users, productss and ratings from our samples test sparse matrix\n",
    "test_users, test_products, test_ratings = find(test_sparse_matrix)"
   ]
  },
  {
   "cell_type": "markdown",
   "id": "disciplinary-davis",
   "metadata": {},
   "source": [
    "**Features which represent the top 5 similar users and 5 similar products for the test data**"
   ]
  },
  {
   "cell_type": "code",
   "execution_count": 26,
   "id": "metallic-subject",
   "metadata": {},
   "outputs": [],
   "source": [
    "# Necessary imports\n",
    "from sklearn.metrics.pairwise import cosine_similarity\n",
    "\n",
    "# Create an empty data frame with all the created features\n",
    "final_test_data = pd.DataFrame()\n",
    "\n",
    "count = 0\n",
    "\n",
    "for (user, product, rating)  in zip(test_users, test_products, test_ratings):\n",
    "            \n",
    "            ####    Ratings of \"product\" by similar users of \"user\"  ####\n",
    "            \n",
    "            # Compute the similar users of the \"user\" with cosine similarity       \n",
    "            user_sim = cosine_similarity(test_sparse_matrix[user], test_sparse_matrix).ravel()\n",
    "            \n",
    "            # We are ignoring 'The User' from its similar users.\n",
    "            top_sim_users = user_sim.argsort()[::-1][1:] \n",
    "            \n",
    "            # Obtain the ratings of most similar users for this product\n",
    "            top_ratings = test_sparse_matrix[top_sim_users, product].toarray().ravel()\n",
    "            \n",
    "            # Make it's length \"5\" by adding product averages to .\n",
    "            top_sim_users_ratings = list(top_ratings[top_ratings != 0][:5])\n",
    "            top_sim_users_ratings.extend([test_averages['product'][product]]*(5 - len(top_sim_users_ratings)))\n",
    "       \n",
    "\n",
    "\n",
    "            ####   Ratings by \"user\"  to similar products of \"product\"   ########\n",
    "        \n",
    "            # Compute the similar products of the \"product\"        \n",
    "            product_sim = cosine_similarity(test_sparse_matrix[:,product].T, test_sparse_matrix.T).ravel()\n",
    "            \n",
    "            # We are ignoring 'The User' from its similar users.\n",
    "            top_sim_products = product_sim.argsort()[::-1][1:]\n",
    "            \n",
    "            # Get the ratings of most similar product rated by this user..\n",
    "            top_ratings = test_sparse_matrix[user, top_sim_products].toarray().ravel()\n",
    "            \n",
    "            # Make it's length \"5\" by adding user averages to.\n",
    "            top_sim_products_ratings = list(top_ratings[top_ratings != 0][:5])\n",
    "            top_sim_products_ratings.extend([test_averages['user'][user]]*(5-len(top_sim_products_ratings))) \n",
    "     \n",
    "\n",
    "            #####      Prepare the row to be stored in a file         ########\n",
    "            \n",
    "            # Create an ampty list fo\n",
    "            row = list()\n",
    "            row.append(user)\n",
    "            row.append(product)\n",
    "            \n",
    "            # Now add the other features to this data\n",
    "            row.append(test_averages['global']) # first feature\n",
    "            \n",
    "            # next 5 features are similar_users \"product\" ratings\n",
    "            row.extend(top_sim_users_ratings)\n",
    "            \n",
    "            # next 5 features are \"user\" ratings for similar_products\n",
    "            row.extend(top_sim_products_ratings)\n",
    "            \n",
    "            #Add avgerage user rating\n",
    "            row.append(test_averages['user'][user])\n",
    "            \n",
    "            # Add average product rating\n",
    "            row.append(test_averages['product'][product])\n",
    "\n",
    "            # Add the actual rating of this user-product pair\n",
    "            row.append(rating)\n",
    "            \n",
    "            count = count + 1\n",
    "            final_test_data = final_test_data.append([row])\n",
    "        # print(count)\n",
    "            "
   ]
  },
  {
   "cell_type": "code",
   "execution_count": 27,
   "id": "defensive-secretary",
   "metadata": {},
   "outputs": [],
   "source": [
    "# Set the column names for the obtained data frame\n",
    "final_test_data.columns=['user', 'product', 'GAvg', 'sur1', 'sur2', 'sur3', 'sur4', 'sur5',\n",
    "            'spr1', 'spr2', 'spr3', 'spr4', 'spr5', 'UAvg', 'PAvg', 'rating']"
   ]
  },
  {
   "cell_type": "code",
   "execution_count": 28,
   "id": "graduate-approval",
   "metadata": {},
   "outputs": [
    {
     "data": {
      "text/plain": [
       "(5058, 16)"
      ]
     },
     "execution_count": 28,
     "metadata": {},
     "output_type": "execute_result"
    }
   ],
   "source": [
    "final_test_data.shape"
   ]
  },
  {
   "cell_type": "markdown",
   "id": "physical-istanbul",
   "metadata": {},
   "source": [
    "The obtained test data frame contains 5058 rows and 16 columns described above for the case of the train data set."
   ]
  },
  {
   "cell_type": "markdown",
   "id": "collectible-killer",
   "metadata": {},
   "source": [
    "Now, as we obtained all the necessary features and stored them in a train and test data sets, we can proceed to building Machine Learning models to obtain the final predictions."
   ]
  },
  {
   "cell_type": "markdown",
   "id": "varying-taxation",
   "metadata": {},
   "source": [
    "## Predictions with XGBoost Regressor"
   ]
  },
  {
   "cell_type": "markdown",
   "id": "opposed-mistake",
   "metadata": {},
   "source": [
    "First, we will write a function that we can use to evaluate the performance of our model.\n",
    "We can do it by calculating Root Mean Squared Error (RMSE) and Mean Absolute Percentage Error (MAPE). \n",
    "RMSE measures the squared loss, while MAPE measures the absolute loss. \n",
    "Lower values mean lower error rates and thus better performance."
   ]
  },
  {
   "cell_type": "code",
   "execution_count": 29,
   "id": "prostate-outdoors",
   "metadata": {},
   "outputs": [],
   "source": [
    "# Define a function that calculates the model performance metrics - RMSE and Mape\n",
    "def get_error_metrics(y_true, y_pred):\n",
    "    rmse = np.sqrt(np.mean([ (y_true[i] - y_pred[i])**2 for i in range(len(y_pred)) ]))\n",
    "    mape = np.mean(np.abs( (y_true - y_pred)/y_true )) * 100\n",
    "    return rmse, mape"
   ]
  },
  {
   "cell_type": "markdown",
   "id": "fourth-nepal",
   "metadata": {},
   "source": [
    "First, we need separate the train and test data sets into train and test data containig only feature columns, \n",
    "and train and test data only containing the target column (ratings)."
   ]
  },
  {
   "cell_type": "code",
   "execution_count": 30,
   "id": "refined-recorder",
   "metadata": {},
   "outputs": [],
   "source": [
    "# Prepare train X(feature) and y (target) data\n",
    "x_train = final_data.drop(['user', 'product','rating'], axis=1)\n",
    "y_train = final_data['rating']\n",
    "\n",
    "x_test = final_test_data.drop(['user','product','rating'], axis=1)\n",
    "y_test = final_test_data['rating']"
   ]
  },
  {
   "cell_type": "markdown",
   "id": "brilliant-consortium",
   "metadata": {},
   "source": [
    "Now, we can define the model and train it on the train dataset"
   ]
  },
  {
   "cell_type": "code",
   "execution_count": 31,
   "id": "cognitive-audience",
   "metadata": {},
   "outputs": [],
   "source": [
    "# Define the model and fit it to the train data\n",
    "import xgboost as xgb\n",
    "\n",
    "# Set the XGBoost model\n",
    "xgb_model = xgb.XGBRegressor(n_jobs=13, random_state=5, n_estimators=100)"
   ]
  },
  {
   "cell_type": "code",
   "execution_count": 32,
   "id": "accredited-westminster",
   "metadata": {},
   "outputs": [
    {
     "data": {
      "text/html": [
       "<style>#sk-container-id-1 {color: black;background-color: white;}#sk-container-id-1 pre{padding: 0;}#sk-container-id-1 div.sk-toggleable {background-color: white;}#sk-container-id-1 label.sk-toggleable__label {cursor: pointer;display: block;width: 100%;margin-bottom: 0;padding: 0.3em;box-sizing: border-box;text-align: center;}#sk-container-id-1 label.sk-toggleable__label-arrow:before {content: \"▸\";float: left;margin-right: 0.25em;color: #696969;}#sk-container-id-1 label.sk-toggleable__label-arrow:hover:before {color: black;}#sk-container-id-1 div.sk-estimator:hover label.sk-toggleable__label-arrow:before {color: black;}#sk-container-id-1 div.sk-toggleable__content {max-height: 0;max-width: 0;overflow: hidden;text-align: left;background-color: #f0f8ff;}#sk-container-id-1 div.sk-toggleable__content pre {margin: 0.2em;color: black;border-radius: 0.25em;background-color: #f0f8ff;}#sk-container-id-1 input.sk-toggleable__control:checked~div.sk-toggleable__content {max-height: 200px;max-width: 100%;overflow: auto;}#sk-container-id-1 input.sk-toggleable__control:checked~label.sk-toggleable__label-arrow:before {content: \"▾\";}#sk-container-id-1 div.sk-estimator input.sk-toggleable__control:checked~label.sk-toggleable__label {background-color: #d4ebff;}#sk-container-id-1 div.sk-label input.sk-toggleable__control:checked~label.sk-toggleable__label {background-color: #d4ebff;}#sk-container-id-1 input.sk-hidden--visually {border: 0;clip: rect(1px 1px 1px 1px);clip: rect(1px, 1px, 1px, 1px);height: 1px;margin: -1px;overflow: hidden;padding: 0;position: absolute;width: 1px;}#sk-container-id-1 div.sk-estimator {font-family: monospace;background-color: #f0f8ff;border: 1px dotted black;border-radius: 0.25em;box-sizing: border-box;margin-bottom: 0.5em;}#sk-container-id-1 div.sk-estimator:hover {background-color: #d4ebff;}#sk-container-id-1 div.sk-parallel-item::after {content: \"\";width: 100%;border-bottom: 1px solid gray;flex-grow: 1;}#sk-container-id-1 div.sk-label:hover label.sk-toggleable__label {background-color: #d4ebff;}#sk-container-id-1 div.sk-serial::before {content: \"\";position: absolute;border-left: 1px solid gray;box-sizing: border-box;top: 0;bottom: 0;left: 50%;z-index: 0;}#sk-container-id-1 div.sk-serial {display: flex;flex-direction: column;align-items: center;background-color: white;padding-right: 0.2em;padding-left: 0.2em;position: relative;}#sk-container-id-1 div.sk-item {position: relative;z-index: 1;}#sk-container-id-1 div.sk-parallel {display: flex;align-items: stretch;justify-content: center;background-color: white;position: relative;}#sk-container-id-1 div.sk-item::before, #sk-container-id-1 div.sk-parallel-item::before {content: \"\";position: absolute;border-left: 1px solid gray;box-sizing: border-box;top: 0;bottom: 0;left: 50%;z-index: -1;}#sk-container-id-1 div.sk-parallel-item {display: flex;flex-direction: column;z-index: 1;position: relative;background-color: white;}#sk-container-id-1 div.sk-parallel-item:first-child::after {align-self: flex-end;width: 50%;}#sk-container-id-1 div.sk-parallel-item:last-child::after {align-self: flex-start;width: 50%;}#sk-container-id-1 div.sk-parallel-item:only-child::after {width: 0;}#sk-container-id-1 div.sk-dashed-wrapped {border: 1px dashed gray;margin: 0 0.4em 0.5em 0.4em;box-sizing: border-box;padding-bottom: 0.4em;background-color: white;}#sk-container-id-1 div.sk-label label {font-family: monospace;font-weight: bold;display: inline-block;line-height: 1.2em;}#sk-container-id-1 div.sk-label-container {text-align: center;}#sk-container-id-1 div.sk-container {/* jupyter's `normalize.less` sets `[hidden] { display: none; }` but bootstrap.min.css set `[hidden] { display: none !important; }` so we also need the `!important` here to be able to override the default hidden behavior on the sphinx rendered scikit-learn.org. See: https://github.com/scikit-learn/scikit-learn/issues/21755 */display: inline-block !important;position: relative;}#sk-container-id-1 div.sk-text-repr-fallback {display: none;}</style><div id=\"sk-container-id-1\" class=\"sk-top-container\"><div class=\"sk-text-repr-fallback\"><pre>XGBRegressor(base_score=0.5, booster=&#x27;gbtree&#x27;, callbacks=None,\n",
       "             colsample_bylevel=1, colsample_bynode=1, colsample_bytree=1,\n",
       "             early_stopping_rounds=None, enable_categorical=False,\n",
       "             eval_metric=None, gamma=0, gpu_id=-1, grow_policy=&#x27;depthwise&#x27;,\n",
       "             importance_type=None, interaction_constraints=&#x27;&#x27;,\n",
       "             learning_rate=0.300000012, max_bin=256, max_cat_to_onehot=4,\n",
       "             max_delta_step=0, max_depth=6, max_leaves=0, min_child_weight=1,\n",
       "             missing=nan, monotone_constraints=&#x27;()&#x27;, n_estimators=100,\n",
       "             n_jobs=13, num_parallel_tree=1, predictor=&#x27;auto&#x27;, random_state=5,\n",
       "             reg_alpha=0, reg_lambda=1, ...)</pre><b>In a Jupyter environment, please rerun this cell to show the HTML representation or trust the notebook. <br />On GitHub, the HTML representation is unable to render, please try loading this page with nbviewer.org.</b></div><div class=\"sk-container\" hidden><div class=\"sk-item\"><div class=\"sk-estimator sk-toggleable\"><input class=\"sk-toggleable__control sk-hidden--visually\" id=\"sk-estimator-id-1\" type=\"checkbox\" checked><label for=\"sk-estimator-id-1\" class=\"sk-toggleable__label sk-toggleable__label-arrow\">XGBRegressor</label><div class=\"sk-toggleable__content\"><pre>XGBRegressor(base_score=0.5, booster=&#x27;gbtree&#x27;, callbacks=None,\n",
       "             colsample_bylevel=1, colsample_bynode=1, colsample_bytree=1,\n",
       "             early_stopping_rounds=None, enable_categorical=False,\n",
       "             eval_metric=None, gamma=0, gpu_id=-1, grow_policy=&#x27;depthwise&#x27;,\n",
       "             importance_type=None, interaction_constraints=&#x27;&#x27;,\n",
       "             learning_rate=0.300000012, max_bin=256, max_cat_to_onehot=4,\n",
       "             max_delta_step=0, max_depth=6, max_leaves=0, min_child_weight=1,\n",
       "             missing=nan, monotone_constraints=&#x27;()&#x27;, n_estimators=100,\n",
       "             n_jobs=13, num_parallel_tree=1, predictor=&#x27;auto&#x27;, random_state=5,\n",
       "             reg_alpha=0, reg_lambda=1, ...)</pre></div></div></div></div></div>"
      ],
      "text/plain": [
       "XGBRegressor(base_score=0.5, booster='gbtree', callbacks=None,\n",
       "             colsample_bylevel=1, colsample_bynode=1, colsample_bytree=1,\n",
       "             early_stopping_rounds=None, enable_categorical=False,\n",
       "             eval_metric=None, gamma=0, gpu_id=-1, grow_policy='depthwise',\n",
       "             importance_type=None, interaction_constraints='',\n",
       "             learning_rate=0.300000012, max_bin=256, max_cat_to_onehot=4,\n",
       "             max_delta_step=0, max_depth=6, max_leaves=0, min_child_weight=1,\n",
       "             missing=nan, monotone_constraints='()', n_estimators=100,\n",
       "             n_jobs=13, num_parallel_tree=1, predictor='auto', random_state=5,\n",
       "             reg_alpha=0, reg_lambda=1, ...)"
      ]
     },
     "execution_count": 32,
     "metadata": {},
     "output_type": "execute_result"
    }
   ],
   "source": [
    "# Set  dictionaries for storing train and test results\n",
    "train_results = dict()\n",
    "test_results = dict()\n",
    "    \n",
    "# Fit the model\n",
    "xgb_model.fit(x_train, y_train, eval_metric = 'rmse')"
   ]
  },
  {
   "cell_type": "markdown",
   "id": "lasting-michael",
   "metadata": {},
   "source": [
    "**Make predictions on the train and test data frames**"
   ]
  },
  {
   "cell_type": "markdown",
   "id": "fourth-yugoslavia",
   "metadata": {},
   "source": [
    "Let's first make predictions on the train data set and store the perfomance metrics (RMSE and MAPE) in a dictionary."
   ]
  },
  {
   "cell_type": "code",
   "execution_count": 33,
   "id": "handy-relevance",
   "metadata": {},
   "outputs": [],
   "source": [
    "# Get the predictions from the trained model\n",
    "y_train_pred = xgb_model.predict(x_train)\n",
    "\n",
    "# Get the RMSE and MAPE of train data\n",
    "rmse_train, mape_train = get_error_metrics(y_train.values, y_train_pred)\n",
    "    \n",
    "# Store the results in train_results dictionary\n",
    "train_results = {'rmse': rmse_train,\n",
    "                    'mape' : mape_train}"
   ]
  },
  {
   "cell_type": "markdown",
   "id": "subsequent-banner",
   "metadata": {},
   "source": [
    "Now, we will use the trained model to predict the ratings in the test data."
   ]
  },
  {
   "cell_type": "code",
   "execution_count": 34,
   "id": "challenging-pastor",
   "metadata": {},
   "outputs": [],
   "source": [
    "# Get the test data predictions and compute rmse and mape\n",
    "y_test_pred = xgb_model.predict(x_test) \n",
    "\n",
    "# Calculate test RMSE and MAPE\n",
    "rmse_test, mape_test = get_error_metrics(y_true=y_test.values, y_pred=y_test_pred)\n",
    "\n",
    "# Store the resutls in the test results dictionary.\n",
    "test_results = {'rmse': rmse_test,\n",
    "                    'mape' : mape_test}"
   ]
  },
  {
   "cell_type": "code",
   "execution_count": 35,
   "id": "opposed-tooth",
   "metadata": {},
   "outputs": [
    {
     "name": "stdout",
     "output_type": "stream",
     "text": [
      "Train results: {'rmse': 0.0012148038855036365, 'mape': 0.005490761125450979}\n",
      "Test results: {'rmse': 0.006222212067928396, 'mape': 0.008082965766235005}\n"
     ]
    }
   ],
   "source": [
    "# Print the model performance metrics\n",
    "print('Train results:', train_results)\n",
    "print('Test results:', test_results)"
   ]
  },
  {
   "cell_type": "markdown",
   "id": "architectural-entity",
   "metadata": {},
   "source": [
    "As we can see, the model performed worse on the test data (as expected), however the RMSE and MAPE values are quite low, which means that the model performed well on the test data."
   ]
  },
  {
   "cell_type": "markdown",
   "id": "binary-words",
   "metadata": {},
   "source": [
    "**Most important features**"
   ]
  },
  {
   "cell_type": "markdown",
   "id": "choice-parking",
   "metadata": {},
   "source": [
    "The XGBoost library has a built-in function that plots features ordered by their importance.\n",
    "\n",
    "Let's see which features got the highest feature importance score in our model."
   ]
  },
  {
   "cell_type": "code",
   "execution_count": 36,
   "id": "undefined-strength",
   "metadata": {},
   "outputs": [
    {
     "data": {
      "image/png": "[encoded data removed]",
      "text/plain": [
       "<Figure size 432x288 with 1 Axes>"
      ]
     },
     "metadata": {
      "needs_background": "light"
     },
     "output_type": "display_data"
    }
   ],
   "source": [
    "# Plot feature importance\n",
    "xgb.plot_importance(xgb_model)\n",
    "plt.show()"
   ]
  },
  {
   "cell_type": "markdown",
   "id": "turkish-planner",
   "metadata": {},
   "source": [
    "You can see from the barchart, the most important features are the top similar product rating and the top similar user rating."
   ]
  },
  {
   "cell_type": "markdown",
   "id": "civil-jones",
   "metadata": {},
   "source": [
    "## Predictions with 13 initial features + SVD  matrix factorization"
   ]
  },
  {
   "cell_type": "markdown",
   "id": "diagnostic-disease",
   "metadata": {},
   "source": [
    "**Matrix factorization with Surprise Library**"
   ]
  },
  {
   "cell_type": "markdown",
   "id": "capable-tongue",
   "metadata": {},
   "source": [
    "Matrix factorization is a calss of collaborative filtering algorithms used in recommender systems. These algorithms work by decomposing the user-item interaction matrix into the product of two lower dimensionality rectangular matrices.\n",
    "\n",
    "One of such algorithms is **SVD** (Singular Value Decomposition) algorithm, a very popular linear algebra technique to break down a matrix into the product of a few smaller matrices.\n",
    "\n",
    "The algorithm uses a matrix structure where each row represents a user, and each column represents an item. The elements of this matrix are the ratings that are given to items by users. Note, that we cannot give raw data to train the model in Surprise library. Thus, we need transform the train and test data.\n",
    "\n",
    "To perform matrix-factorization with SVD we will use the **Surprise** library (the namestands for Simple Python Recommendation System Engine).\n",
    "\n",
    "We will be able to use the SVD predictions as an additional feature for further modelling."
   ]
  },
  {
   "cell_type": "markdown",
   "id": "cutting-fiber",
   "metadata": {},
   "source": [
    "**SVD on train data**"
   ]
  },
  {
   "cell_type": "code",
   "execution_count": 37,
   "id": "boxed-messenger",
   "metadata": {},
   "outputs": [
    {
     "name": "stdout",
     "output_type": "stream",
     "text": [
      "Processing epoch 0\n",
      "Processing epoch 1\n",
      "Processing epoch 2\n",
      "Processing epoch 3\n",
      "Processing epoch 4\n",
      "Processing epoch 5\n",
      "Processing epoch 6\n",
      "Processing epoch 7\n",
      "Processing epoch 8\n",
      "Processing epoch 9\n",
      "Processing epoch 10\n",
      "Processing epoch 11\n",
      "Processing epoch 12\n",
      "Processing epoch 13\n",
      "Processing epoch 14\n",
      "Processing epoch 15\n",
      "Processing epoch 16\n",
      "Processing epoch 17\n",
      "Processing epoch 18\n",
      "Processing epoch 19\n"
     ]
    },
    {
     "data": {
      "text/plain": [
       "<surprise.prediction_algorithms.matrix_factorization.SVD at 0x1e983170fa0>"
      ]
     },
     "execution_count": 37,
     "metadata": {},
     "output_type": "execute_result"
    }
   ],
   "source": [
    "import surprise\n",
    "from surprise import SVD\n",
    "from surprise import Reader, Dataset\n",
    "\n",
    "# It is to specify how to read the data frame.\n",
    "reader = Reader(rating_scale=(1,5))\n",
    "\n",
    "# Load the train_data from the data frame\n",
    "train_data_mf = Dataset.load_from_df(train_data[['user_id', 'product_id', 'rating']], reader)\n",
    "\n",
    "# Build the train set from traindata. It is of dataset format from surprise library\n",
    "trainset = train_data_mf.build_full_trainset()\n",
    "\n",
    "# Define SVD model\n",
    "svd = SVD(n_factors=100, biased=True, random_state=5, verbose=True)\n",
    "\n",
    "# Fit the model to the trainset\n",
    "svd.fit(trainset)"
   ]
  },
  {
   "cell_type": "code",
   "execution_count": 38,
   "id": "inside-peace",
   "metadata": {},
   "outputs": [],
   "source": [
    "#getting predictions of train set\n",
    "train_preds = svd.test(trainset.build_testset())\n",
    "train_pred_mf = np.array([pred.est for pred in train_preds])"
   ]
  },
  {
   "cell_type": "code",
   "execution_count": 39,
   "id": "demanding-granny",
   "metadata": {},
   "outputs": [
    {
     "data": {
      "text/plain": [
       "array([3.83857084, 4.31410628, 3.0027348 , ..., 4.54104316, 4.48191665,\n",
       "       4.42643249])"
      ]
     },
     "execution_count": 39,
     "metadata": {},
     "output_type": "execute_result"
    }
   ],
   "source": [
    "# Print the predictions\n",
    "train_pred_mf"
   ]
  },
  {
   "cell_type": "markdown",
   "id": "developmental-steering",
   "metadata": {},
   "source": [
    "**SVD on test data**"
   ]
  },
  {
   "cell_type": "code",
   "execution_count": 40,
   "id": "sunset-carry",
   "metadata": {},
   "outputs": [
    {
     "name": "stdout",
     "output_type": "stream",
     "text": [
      "Processing epoch 0\n",
      "Processing epoch 1\n",
      "Processing epoch 2\n",
      "Processing epoch 3\n",
      "Processing epoch 4\n",
      "Processing epoch 5\n",
      "Processing epoch 6\n",
      "Processing epoch 7\n",
      "Processing epoch 8\n",
      "Processing epoch 9\n",
      "Processing epoch 10\n",
      "Processing epoch 11\n",
      "Processing epoch 12\n",
      "Processing epoch 13\n",
      "Processing epoch 14\n",
      "Processing epoch 15\n",
      "Processing epoch 16\n",
      "Processing epoch 17\n",
      "Processing epoch 18\n",
      "Processing epoch 19\n"
     ]
    },
    {
     "data": {
      "text/plain": [
       "<surprise.prediction_algorithms.matrix_factorization.SVD at 0x1e9831fb7f0>"
      ]
     },
     "execution_count": 40,
     "metadata": {},
     "output_type": "execute_result"
    }
   ],
   "source": [
    "# Load the test_data from the data frame\n",
    "test_data_mf = Dataset.load_from_df(test_data[['user_id', 'product_id', 'rating']], reader)\n",
    "\n",
    "# Build the test set from testdata .It is of dataset format from surprise library\n",
    "testset = test_data_mf.build_full_trainset()\n",
    "\n",
    "# Define SVD model\n",
    "svd = SVD(n_factors=100, biased=True, random_state=5, verbose=True)\n",
    "\n",
    "# Fit the model\n",
    "svd.fit(testset)"
   ]
  },
  {
   "cell_type": "code",
   "execution_count": 41,
   "id": "loved-color",
   "metadata": {},
   "outputs": [
    {
     "data": {
      "text/plain": [
       "array([4.07558328, 4.28242936, 3.03648192, ..., 4.54647918, 3.09019612,\n",
       "       3.00963393])"
      ]
     },
     "execution_count": 41,
     "metadata": {},
     "output_type": "execute_result"
    }
   ],
   "source": [
    "# Get predictions of test set\n",
    "test_preds = svd.test(testset.build_testset())\n",
    "test_pred_mf = np.array([pred.est for pred in test_preds])\n",
    "\n",
    "# Print the test data predictions\n",
    "test_pred_mf"
   ]
  },
  {
   "cell_type": "markdown",
   "id": "victorian-munich",
   "metadata": {},
   "source": [
    "We can now add the ratings predicted by SVD model as an additional feature to train our model on.\n",
    "Let's see if this can iprove the performance of the model."
   ]
  },
  {
   "cell_type": "markdown",
   "id": "exclusive-exploration",
   "metadata": {},
   "source": [
    "**Adding the new feature to the train and test data frames**"
   ]
  },
  {
   "cell_type": "code",
   "execution_count": 42,
   "id": "measured-pharmaceutical",
   "metadata": {},
   "outputs": [
    {
     "data": {
      "text/plain": [
       "(15173,)"
      ]
     },
     "execution_count": 42,
     "metadata": {},
     "output_type": "execute_result"
    }
   ],
   "source": [
    "train_pred_mf.shape"
   ]
  },
  {
   "cell_type": "code",
   "execution_count": 43,
   "id": "patient-indian",
   "metadata": {},
   "outputs": [
    {
     "data": {
      "text/plain": [
       "(15173,)"
      ]
     },
     "execution_count": 43,
     "metadata": {},
     "output_type": "execute_result"
    }
   ],
   "source": [
    "train_pred_mf.shape"
   ]
  },
  {
   "cell_type": "code",
   "execution_count": 44,
   "id": "silver-blend",
   "metadata": {},
   "outputs": [],
   "source": [
    "# Add svd feature to the train data\n",
    "final_data['mf_svd']=train_pred_mf"
   ]
  },
  {
   "cell_type": "code",
   "execution_count": 45,
   "id": "gothic-career",
   "metadata": {},
   "outputs": [
    {
     "data": {
      "text/plain": [
       "(5058, 16)"
      ]
     },
     "execution_count": 45,
     "metadata": {},
     "output_type": "execute_result"
    }
   ],
   "source": [
    "final_test_data.shape"
   ]
  },
  {
   "cell_type": "code",
   "execution_count": 46,
   "id": "legendary-coffee",
   "metadata": {},
   "outputs": [
    {
     "data": {
      "text/plain": [
       "(5058,)"
      ]
     },
     "execution_count": 46,
     "metadata": {},
     "output_type": "execute_result"
    }
   ],
   "source": [
    "test_pred_mf.shape"
   ]
  },
  {
   "cell_type": "code",
   "execution_count": 47,
   "id": "major-monroe",
   "metadata": {},
   "outputs": [],
   "source": [
    "# Add svd feature to the test data\n",
    "final_test_data['mf_svd']=test_pred_mf"
   ]
  },
  {
   "cell_type": "markdown",
   "id": "dying-potato",
   "metadata": {},
   "source": [
    "Now, we will separate the updated train and test data sets into train and test data containig only feature columns, \n",
    "and train and test data only containing the target column (ratings)."
   ]
  },
  {
   "cell_type": "code",
   "execution_count": 48,
   "id": "disabled-subscription",
   "metadata": {},
   "outputs": [],
   "source": [
    "# Prepare train X(feature) and y (target) data\n",
    "x_train = final_data.drop(['user', 'product','rating'], axis=1)\n",
    "y_train = final_data['rating']"
   ]
  },
  {
   "cell_type": "code",
   "execution_count": 49,
   "id": "thrown-statistics",
   "metadata": {},
   "outputs": [],
   "source": [
    "# Prepare test data\n",
    "x_test = final_test_data.drop(['user','product','rating'], axis=1)\n",
    "y_test = final_test_data['rating']"
   ]
  },
  {
   "cell_type": "markdown",
   "id": "requested-nicholas",
   "metadata": {},
   "source": [
    "Now, we will train the model on the updated train dataset"
   ]
  },
  {
   "cell_type": "markdown",
   "id": "broke-death",
   "metadata": {},
   "source": [
    "**Training the XGB Regressor model on the new train data**"
   ]
  },
  {
   "cell_type": "code",
   "execution_count": 50,
   "id": "incredible-substitute",
   "metadata": {},
   "outputs": [
    {
     "data": {
      "text/html": [
       "<style>#sk-container-id-2 {color: black;background-color: white;}#sk-container-id-2 pre{padding: 0;}#sk-container-id-2 div.sk-toggleable {background-color: white;}#sk-container-id-2 label.sk-toggleable__label {cursor: pointer;display: block;width: 100%;margin-bottom: 0;padding: 0.3em;box-sizing: border-box;text-align: center;}#sk-container-id-2 label.sk-toggleable__label-arrow:before {content: \"▸\";float: left;margin-right: 0.25em;color: #696969;}#sk-container-id-2 label.sk-toggleable__label-arrow:hover:before {color: black;}#sk-container-id-2 div.sk-estimator:hover label.sk-toggleable__label-arrow:before {color: black;}#sk-container-id-2 div.sk-toggleable__content {max-height: 0;max-width: 0;overflow: hidden;text-align: left;background-color: #f0f8ff;}#sk-container-id-2 div.sk-toggleable__content pre {margin: 0.2em;color: black;border-radius: 0.25em;background-color: #f0f8ff;}#sk-container-id-2 input.sk-toggleable__control:checked~div.sk-toggleable__content {max-height: 200px;max-width: 100%;overflow: auto;}#sk-container-id-2 input.sk-toggleable__control:checked~label.sk-toggleable__label-arrow:before {content: \"▾\";}#sk-container-id-2 div.sk-estimator input.sk-toggleable__control:checked~label.sk-toggleable__label {background-color: #d4ebff;}#sk-container-id-2 div.sk-label input.sk-toggleable__control:checked~label.sk-toggleable__label {background-color: #d4ebff;}#sk-container-id-2 input.sk-hidden--visually {border: 0;clip: rect(1px 1px 1px 1px);clip: rect(1px, 1px, 1px, 1px);height: 1px;margin: -1px;overflow: hidden;padding: 0;position: absolute;width: 1px;}#sk-container-id-2 div.sk-estimator {font-family: monospace;background-color: #f0f8ff;border: 1px dotted black;border-radius: 0.25em;box-sizing: border-box;margin-bottom: 0.5em;}#sk-container-id-2 div.sk-estimator:hover {background-color: #d4ebff;}#sk-container-id-2 div.sk-parallel-item::after {content: \"\";width: 100%;border-bottom: 1px solid gray;flex-grow: 1;}#sk-container-id-2 div.sk-label:hover label.sk-toggleable__label {background-color: #d4ebff;}#sk-container-id-2 div.sk-serial::before {content: \"\";position: absolute;border-left: 1px solid gray;box-sizing: border-box;top: 0;bottom: 0;left: 50%;z-index: 0;}#sk-container-id-2 div.sk-serial {display: flex;flex-direction: column;align-items: center;background-color: white;padding-right: 0.2em;padding-left: 0.2em;position: relative;}#sk-container-id-2 div.sk-item {position: relative;z-index: 1;}#sk-container-id-2 div.sk-parallel {display: flex;align-items: stretch;justify-content: center;background-color: white;position: relative;}#sk-container-id-2 div.sk-item::before, #sk-container-id-2 div.sk-parallel-item::before {content: \"\";position: absolute;border-left: 1px solid gray;box-sizing: border-box;top: 0;bottom: 0;left: 50%;z-index: -1;}#sk-container-id-2 div.sk-parallel-item {display: flex;flex-direction: column;z-index: 1;position: relative;background-color: white;}#sk-container-id-2 div.sk-parallel-item:first-child::after {align-self: flex-end;width: 50%;}#sk-container-id-2 div.sk-parallel-item:last-child::after {align-self: flex-start;width: 50%;}#sk-container-id-2 div.sk-parallel-item:only-child::after {width: 0;}#sk-container-id-2 div.sk-dashed-wrapped {border: 1px dashed gray;margin: 0 0.4em 0.5em 0.4em;box-sizing: border-box;padding-bottom: 0.4em;background-color: white;}#sk-container-id-2 div.sk-label label {font-family: monospace;font-weight: bold;display: inline-block;line-height: 1.2em;}#sk-container-id-2 div.sk-label-container {text-align: center;}#sk-container-id-2 div.sk-container {/* jupyter's `normalize.less` sets `[hidden] { display: none; }` but bootstrap.min.css set `[hidden] { display: none !important; }` so we also need the `!important` here to be able to override the default hidden behavior on the sphinx rendered scikit-learn.org. See: https://github.com/scikit-learn/scikit-learn/issues/21755 */display: inline-block !important;position: relative;}#sk-container-id-2 div.sk-text-repr-fallback {display: none;}</style><div id=\"sk-container-id-2\" class=\"sk-top-container\"><div class=\"sk-text-repr-fallback\"><pre>XGBRegressor(base_score=0.5, booster=&#x27;gbtree&#x27;, callbacks=None,\n",
       "             colsample_bylevel=1, colsample_bynode=1, colsample_bytree=1,\n",
       "             early_stopping_rounds=None, enable_categorical=False,\n",
       "             eval_metric=None, gamma=0, gpu_id=-1, grow_policy=&#x27;depthwise&#x27;,\n",
       "             importance_type=None, interaction_constraints=&#x27;&#x27;,\n",
       "             learning_rate=0.300000012, max_bin=256, max_cat_to_onehot=4,\n",
       "             max_delta_step=0, max_depth=6, max_leaves=0, min_child_weight=1,\n",
       "             missing=nan, monotone_constraints=&#x27;()&#x27;, n_estimators=100,\n",
       "             n_jobs=13, num_parallel_tree=1, predictor=&#x27;auto&#x27;, random_state=5,\n",
       "             reg_alpha=0, reg_lambda=1, ...)</pre><b>In a Jupyter environment, please rerun this cell to show the HTML representation or trust the notebook. <br />On GitHub, the HTML representation is unable to render, please try loading this page with nbviewer.org.</b></div><div class=\"sk-container\" hidden><div class=\"sk-item\"><div class=\"sk-estimator sk-toggleable\"><input class=\"sk-toggleable__control sk-hidden--visually\" id=\"sk-estimator-id-2\" type=\"checkbox\" checked><label for=\"sk-estimator-id-2\" class=\"sk-toggleable__label sk-toggleable__label-arrow\">XGBRegressor</label><div class=\"sk-toggleable__content\"><pre>XGBRegressor(base_score=0.5, booster=&#x27;gbtree&#x27;, callbacks=None,\n",
       "             colsample_bylevel=1, colsample_bynode=1, colsample_bytree=1,\n",
       "             early_stopping_rounds=None, enable_categorical=False,\n",
       "             eval_metric=None, gamma=0, gpu_id=-1, grow_policy=&#x27;depthwise&#x27;,\n",
       "             importance_type=None, interaction_constraints=&#x27;&#x27;,\n",
       "             learning_rate=0.300000012, max_bin=256, max_cat_to_onehot=4,\n",
       "             max_delta_step=0, max_depth=6, max_leaves=0, min_child_weight=1,\n",
       "             missing=nan, monotone_constraints=&#x27;()&#x27;, n_estimators=100,\n",
       "             n_jobs=13, num_parallel_tree=1, predictor=&#x27;auto&#x27;, random_state=5,\n",
       "             reg_alpha=0, reg_lambda=1, ...)</pre></div></div></div></div></div>"
      ],
      "text/plain": [
       "XGBRegressor(base_score=0.5, booster='gbtree', callbacks=None,\n",
       "             colsample_bylevel=1, colsample_bynode=1, colsample_bytree=1,\n",
       "             early_stopping_rounds=None, enable_categorical=False,\n",
       "             eval_metric=None, gamma=0, gpu_id=-1, grow_policy='depthwise',\n",
       "             importance_type=None, interaction_constraints='',\n",
       "             learning_rate=0.300000012, max_bin=256, max_cat_to_onehot=4,\n",
       "             max_delta_step=0, max_depth=6, max_leaves=0, min_child_weight=1,\n",
       "             missing=nan, monotone_constraints='()', n_estimators=100,\n",
       "             n_jobs=13, num_parallel_tree=1, predictor='auto', random_state=5,\n",
       "             reg_alpha=0, reg_lambda=1, ...)"
      ]
     },
     "execution_count": 50,
     "metadata": {},
     "output_type": "execute_result"
    }
   ],
   "source": [
    "# Set  dictionaries for storing train and test results\n",
    "train_results = dict()\n",
    "test_results = dict()\n",
    "    \n",
    "# Fit the model\n",
    "xgb_model.fit(x_train, y_train, eval_metric = 'rmse')"
   ]
  },
  {
   "cell_type": "markdown",
   "id": "tamil-psychology",
   "metadata": {},
   "source": [
    "Now, using the trained model, we can get the predictions for the updated train data"
   ]
  },
  {
   "cell_type": "markdown",
   "id": "responsible-cleaners",
   "metadata": {},
   "source": [
    "**Make predictions on the updated train and test data frames**"
   ]
  },
  {
   "cell_type": "code",
   "execution_count": 51,
   "id": "optional-terry",
   "metadata": {},
   "outputs": [],
   "source": [
    "# Get the predictions from the trained model\n",
    "y_train_pred = xgb_model.predict(x_train)\n",
    "\n",
    "# Get the rmse and mape of train data\n",
    "rmse_train, mape_train = get_error_metrics(y_train.values, y_train_pred)\n",
    "    \n",
    "# Store the results in train_results dictionary\n",
    "train_results = {'rmse': rmse_train,\n",
    "                    'mape' : mape_train,}"
   ]
  },
  {
   "cell_type": "markdown",
   "id": "canadian-chorus",
   "metadata": {},
   "source": [
    "Now, we will use the trained model to predict the ratings in the updated test data."
   ]
  },
  {
   "cell_type": "code",
   "execution_count": 52,
   "id": "fossil-emergency",
   "metadata": {},
   "outputs": [],
   "source": [
    "# Get the test data predictions and compute rmse and mape\n",
    "y_test_pred = xgb_model.predict(x_test) \n",
    "\n",
    "rmse_test, mape_test = get_error_metrics(y_true=y_test.values, y_pred=y_test_pred)\n",
    "\n",
    "# Store the resutls in the test results dictionary.\n",
    "test_results = {'rmse': rmse_test,\n",
    "                    'mape' : mape_test}"
   ]
  },
  {
   "cell_type": "code",
   "execution_count": 53,
   "id": "excess-calgary",
   "metadata": {},
   "outputs": [
    {
     "name": "stdout",
     "output_type": "stream",
     "text": [
      "Train results:  {'rmse': 0.001634713584662336, 'mape': 0.010464153855684843}\n",
      "Test results: {'rmse': 0.011442035428420028, 'mape': 0.02170421160522839}\n"
     ]
    }
   ],
   "source": [
    "# Print the results\n",
    "print('Train results: ',train_results)\n",
    "\n",
    "# Print the results\n",
    "print('Test results:',test_results)"
   ]
  },
  {
   "cell_type": "markdown",
   "id": "found-mechanism",
   "metadata": {},
   "source": [
    "Interestingly, the RMSE and MAPE values of the model that uses the additional feature are greater than those obrained\n",
    "when we used only 13 initial features only. This means than the performance of the model is worse when we use the\n",
    "additional matrix factorization factor. **Adding Collaborative filtering results in worse predictions**."
   ]
  },
  {
   "cell_type": "markdown",
   "id": "norwegian-harvest",
   "metadata": {},
   "source": [
    "Let's see which features got the highest feature importance score in this model."
   ]
  },
  {
   "cell_type": "code",
   "execution_count": 54,
   "id": "several-warehouse",
   "metadata": {},
   "outputs": [
    {
     "data": {
      "image/png": "[encoded data removed]",
      "text/plain": [
       "<Figure size 432x288 with 1 Axes>"
      ]
     },
     "metadata": {
      "needs_background": "light"
     },
     "output_type": "display_data"
    }
   ],
   "source": [
    "# Plot feature importance\n",
    "xgb.plot_importance(xgb_model)\n",
    "plt.show()"
   ]
  },
  {
   "cell_type": "markdown",
   "id": "deluxe-husband",
   "metadata": {},
   "source": [
    "As you can see from the barchart, the most important features are the values predicted by svd model\n",
    "as well as the top similar product rating,and the top similar user rating."
   ]
  }
 ],
 "metadata": {
  "kernelspec": {
   "display_name": "Python 3",
   "language": "python",
   "name": "python3"
  },
  "language_info": {
   "codemirror_mode": {
    "name": "ipython",
    "version": 3
   },
   "file_extension": ".py",
   "mimetype": "text/x-python",
   "name": "python",
   "nbconvert_exporter": "python",
   "pygments_lexer": "ipython3",
   "version": "3.9.2"
  }
 },
 "nbformat": 4,
 "nbformat_minor": 5
}
